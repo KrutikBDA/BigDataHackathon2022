{
 "cells": [
  {
   "cell_type": "code",
   "execution_count": 2,
   "id": "6b181000",
   "metadata": {},
   "outputs": [
    {
     "name": "stdout",
     "output_type": "stream",
     "text": [
      "          Unnamed: 0     user_id  \\\n",
      "0                  0  3f21058fc8   \n",
      "1                  1  3f21058fc8   \n",
      "2                  2  3f21058fc8   \n",
      "3                  3  3f21058fc8   \n",
      "4                  4  3f21058fc8   \n",
      "...              ...         ...   \n",
      "32191363    32191363  c789b769d1   \n",
      "32191364    32191364  c789b769d1   \n",
      "32191365    32191365  c789b769d1   \n",
      "32191366    32191366  c789b769d1   \n",
      "32191367    32191367  c789b769d1   \n",
      "\n",
      "                                                       text disorder  \n",
      "0         @amirulmokhtar Exactly! We were busy buat untu...  anxiety  \n",
      "1         Ternangis baca text &amp; dengar call reply di...  anxiety  \n",
      "2         I learn smthg very valuable today.\\n\\nWhen I w...  anxiety  \n",
      "3         @MintKr Ohhh okay. So, to create more opportun...  anxiety  \n",
      "4         @MintKr Perspective expanding experience tu ap...  anxiety  \n",
      "...                                                     ...      ...  \n",
      "32191363  Peeps Don't forget to catch the braai show @SA...  bipolar  \n",
      "32191364           @JohnnyGargano #fortheloveofGarganoway🔥💝  bipolar  \n",
      "32191365  @Official_SABC1 @akaworldwide @malusi_gigaba D...  bipolar  \n",
      "32191366  #TeamBreezyForever🔥💝💝😇#TeamBreezySA 🇿🇦💝#ChrisB...  bipolar  \n",
      "32191367  #lookingIntoTheFuture 🔥🏆#ItsLookingGood https:...  bipolar  \n",
      "\n",
      "[32191368 rows x 4 columns]\n"
     ]
    }
   ],
   "source": [
    "import pandas as pd\n",
    "\n",
    "df = pd.read_csv('disorder_tweets.csv')\n",
    "\n",
    "print(df) "
   ]
  },
  {
   "cell_type": "code",
   "execution_count": null,
   "id": "8d0a23ae",
   "metadata": {},
   "outputs": [],
   "source": []
  }
 ],
 "metadata": {
  "kernelspec": {
   "display_name": "Python 3 (ipykernel)",
   "language": "python",
   "name": "python3"
  },
  "language_info": {
   "codemirror_mode": {
    "name": "ipython",
    "version": 3
   },
   "file_extension": ".py",
   "mimetype": "text/x-python",
   "name": "python",
   "nbconvert_exporter": "python",
   "pygments_lexer": "ipython3",
   "version": "3.9.12"
  }
 },
 "nbformat": 4,
 "nbformat_minor": 5
}
